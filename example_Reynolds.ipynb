{
  "nbformat": 4,
  "nbformat_minor": 0,
  "metadata": {
    "colab": {
      "provenance": [],
      "authorship_tag": "ABX9TyP3Qb1Fj9hshS8Ogf60yfSR",
      "include_colab_link": true
    },
    "kernelspec": {
      "name": "python3",
      "display_name": "Python 3"
    },
    "language_info": {
      "name": "python"
    }
  },
  "cells": [
    {
      "cell_type": "markdown",
      "metadata": {
        "id": "view-in-github",
        "colab_type": "text"
      },
      "source": [
        "<a href=\"https://colab.research.google.com/github/rezamarzban/dimension-less-nums/blob/main/example_Reynolds.ipynb\" target=\"_parent\"><img src=\"https://colab.research.google.com/assets/colab-badge.svg\" alt=\"Open In Colab\"/></a>"
      ]
    },
    {
      "cell_type": "code",
      "execution_count": 1,
      "metadata": {
        "colab": {
          "base_uri": "https://localhost:8080/"
        },
        "id": "H7s_Iw4xXzvs",
        "outputId": "d39f9550-53b4-4a0d-86e0-ab97491db062"
      },
      "outputs": [
        {
          "output_type": "stream",
          "name": "stdout",
          "text": [
            "Cloning into 'dimension-less-nums'...\n",
            "remote: Enumerating objects: 24, done.\u001b[K\n",
            "remote: Counting objects: 100% (24/24), done.\u001b[K\n",
            "remote: Compressing objects: 100% (18/18), done.\u001b[K\n",
            "remote: Total 24 (delta 6), reused 0 (delta 0), pack-reused 0 (from 0)\u001b[K\n",
            "Receiving objects: 100% (24/24), 10.96 KiB | 3.65 MiB/s, done.\n",
            "Resolving deltas: 100% (6/6), done.\n"
          ]
        }
      ],
      "source": [
        "!git clone https://github.com/rezamarzban/dimension-less-nums"
      ]
    },
    {
      "cell_type": "code",
      "source": [
        "%cd dimension-less-nums"
      ],
      "metadata": {
        "colab": {
          "base_uri": "https://localhost:8080/"
        },
        "id": "WahG6aEJX5k2",
        "outputId": "97fe320e-7070-4b9b-e602-c99512f3daaf"
      },
      "execution_count": 2,
      "outputs": [
        {
          "output_type": "stream",
          "name": "stdout",
          "text": [
            "/content/dimension-less-nums\n"
          ]
        }
      ]
    },
    {
      "cell_type": "code",
      "source": [
        "from dimensional_analysis import DimensionlessNumbers\n",
        "\n",
        "# Parameters for calculations\n",
        "rho = 1.2  # Density (kg/m^3)\n",
        "u = 3.0    # Velocity (m/s)\n",
        "L = 0.5    # Characteristic length (m)\n",
        "mu = 0.001 # Dynamic viscosity (Pa.s)\n",
        "\n",
        "# Calculate Reynolds dimensionless number\n",
        "Re = DimensionlessNumbers.reynolds_number(rho, u, L, mu)\n",
        "\n",
        "print(f\"Reynolds Number (Re): {Re}\")"
      ],
      "metadata": {
        "colab": {
          "base_uri": "https://localhost:8080/"
        },
        "id": "rg750AtoYX0W",
        "outputId": "fe2be99a-8c84-4fdc-9c07-b34de5bf99d8"
      },
      "execution_count": 3,
      "outputs": [
        {
          "output_type": "stream",
          "name": "stdout",
          "text": [
            "Reynolds Number (Re): 1799.9999999999998\n"
          ]
        }
      ]
    }
  ]
}